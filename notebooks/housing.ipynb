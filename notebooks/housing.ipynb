{
 "cells": [
  {
   "cell_type": "code",
   "execution_count": null,
   "metadata": {},
   "outputs": [],
   "source": [
    "import joblib\n",
    "import matplotlib\n",
    "import matplotlib.pyplot as plt\n",
    "import numpy as np\n",
    "import pandas as pd\n",
    "import plotly.express as px\n",
    "import seaborn as sns\n",
    "from sklearn.compose import (ColumnTransformer, make_column_selector,\n",
    "                             make_column_transformer)\n",
    "from sklearn.ensemble import GradientBoostingRegressor, RandomForestRegressor\n",
    "from sklearn.impute import KNNImputer, SimpleImputer\n",
    "from sklearn.metrics import mean_squared_error\n",
    "from sklearn.model_selection import GridSearchCV, train_test_split\n",
    "from sklearn.pipeline import Pipeline, make_pipeline\n",
    "from sklearn.preprocessing import (FunctionTransformer, OneHotEncoder,\n",
    "                                   OrdinalEncoder, RobustScaler,\n",
    "                                   StandardScaler)\n",
    "from sklearn.base import BaseEstimator, TransformerMixin\n",
    "\n",
    "from src.helpers import helper_functions, load_data, visuals"
   ]
  },
  {
   "cell_type": "code",
   "execution_count": null,
   "metadata": {
    "pycharm": {
     "name": "#%%\n"
    }
   },
   "outputs": [],
   "source": [
    "plt.rcParams[\"figure.figsize\"] = (15, 6)\n",
    "plt.style.use(\"ggplot\")\n",
    "plt.rcParams[\"axes.prop_cycle\"] = matplotlib.cycler(color=[\"#1f77b4\", \"red\"])"
   ]
  },
  {
   "cell_type": "code",
   "execution_count": null,
   "metadata": {
    "pycharm": {
     "name": "#%%\n"
    }
   },
   "outputs": [],
   "source": [
    "df_housing_raw = load_data.load_housing_raw_data()"
   ]
  },
  {
   "cell_type": "code",
   "execution_count": null,
   "metadata": {
    "pycharm": {
     "name": "#%%\n"
    }
   },
   "outputs": [],
   "source": [
    "project_path = helper_functions.get_project_path()"
   ]
  },
  {
   "cell_type": "markdown",
   "metadata": {
    "pycharm": {
     "name": "#%% md\n"
    }
   },
   "source": [
    "# Plan\n",
    "1. splitting train-test\n",
    "2. exploring data\n",
    "3. data preparation pipeline (cleaning, imputing, feature engineering)\n",
    "4. hyperparameter tuning\n",
    "5. overfitting/underfitting check\n",
    "6. evaluation on testing data"
   ]
  },
  {
   "cell_type": "markdown",
   "metadata": {
    "pycharm": {
     "name": "#%% md\n"
    }
   },
   "source": [
    "# Quick EDA to know how to stratify and split the data into train/test"
   ]
  },
  {
   "cell_type": "code",
   "execution_count": null,
   "metadata": {
    "pycharm": {
     "name": "#%%\n"
    }
   },
   "outputs": [],
   "source": [
    "df_housing_raw.isna().sum()"
   ]
  },
  {
   "cell_type": "code",
   "execution_count": null,
   "metadata": {
    "pycharm": {
     "name": "#%%\n"
    }
   },
   "outputs": [],
   "source": [
    "visuals.plot_correlation(df_housing_raw)"
   ]
  },
  {
   "cell_type": "code",
   "execution_count": null,
   "metadata": {
    "pycharm": {
     "name": "#%%\n"
    }
   },
   "outputs": [],
   "source": [
    "df_housing_raw.hist(bins=50)\n",
    "plt.savefig(project_path / \"images\" / \"features_histogram.png\")"
   ]
  },
  {
   "cell_type": "code",
   "execution_count": null,
   "metadata": {
    "pycharm": {
     "name": "#%%\n"
    }
   },
   "outputs": [],
   "source": [
    "df_housing = df_housing_raw.copy()"
   ]
  },
  {
   "cell_type": "code",
   "execution_count": null,
   "metadata": {
    "pycharm": {
     "name": "#%%\n"
    }
   },
   "outputs": [],
   "source": [
    "fig, ax = plt.subplots()\n",
    "pd.cut(\n",
    "    df_housing[\"median_income\"], bins=[0, 1.5, 3, 4.5, 6, np.inf]\n",
    ").value_counts().sort_index().plot(kind=\"bar\", ax=ax)\n",
    "ax.set_title(\"Distribution of bins of 'median_income' feature\")\n",
    "plt.savefig(project_path / \"images\" / \"dist_bin_median_income.png\")"
   ]
  },
  {
   "cell_type": "markdown",
   "metadata": {
    "pycharm": {
     "name": "#%% md\n"
    }
   },
   "source": [
    "# Split into train/test data"
   ]
  },
  {
   "cell_type": "code",
   "execution_count": null,
   "metadata": {
    "pycharm": {
     "name": "#%%\n"
    }
   },
   "outputs": [],
   "source": [
    "df_housing[\"median_income_bin\"] = pd.cut(\n",
    "    df_housing[\"median_income\"],\n",
    "    bins=[0, 1.5, 3, 4.5, 6, np.inf],\n",
    "    labels=[1, 2, 3, 4, 5],\n",
    ")"
   ]
  },
  {
   "cell_type": "code",
   "execution_count": null,
   "metadata": {
    "pycharm": {
     "name": "#%%\n"
    }
   },
   "outputs": [],
   "source": [
    "df_train, df_test = train_test_split(\n",
    "    df_housing,\n",
    "    test_size=0.2,\n",
    "    random_state=42,\n",
    "    stratify=df_housing[\"median_income_bin\"],\n",
    ")"
   ]
  },
  {
   "cell_type": "markdown",
   "metadata": {
    "pycharm": {
     "name": "#%% md\n"
    }
   },
   "source": [
    "# More EDA (training set only)"
   ]
  },
  {
   "cell_type": "code",
   "execution_count": null,
   "metadata": {
    "pycharm": {
     "name": "#%%\n"
    }
   },
   "outputs": [],
   "source": [
    "# fig = px.scatter_geo(df_train, lat='latitude', lon='longitude', color='median_house_value', fitbounds='locations', size='median_house_value')\n",
    "# fig.write_html(project_path / 'images/median_house_value_geospatial.html')"
   ]
  },
  {
   "cell_type": "code",
   "execution_count": null,
   "metadata": {
    "pycharm": {
     "name": "#%%\n"
    }
   },
   "outputs": [],
   "source": [
    "fig, ax = plt.subplots()\n",
    "df_train.plot(\n",
    "    kind=\"scatter\",\n",
    "    x=\"longitude\",\n",
    "    y=\"latitude\",\n",
    "    s=df_train[\"population\"] / 50,\n",
    "    c=\"median_house_value\",\n",
    "    cmap=\"jet\",\n",
    "    ax=ax,\n",
    "    alpha=0.5,\n",
    "    title=\"median_house_value geospatial distribution\",\n",
    ")\n",
    "plt.savefig(project_path / \"images/median_house_value_geospatial.png\")"
   ]
  },
  {
   "cell_type": "code",
   "execution_count": null,
   "metadata": {
    "pycharm": {
     "name": "#%%\n"
    }
   },
   "outputs": [],
   "source": [
    "fig, ax = plt.subplots()\n",
    "df_train.plot(\n",
    "    kind=\"scatter\",\n",
    "    x=\"median_income\",\n",
    "    y=\"median_house_value\",\n",
    "    alpha=0.5,\n",
    "    title=\"median_house_value in relation to median_income\",\n",
    "    ax=ax,\n",
    ")\n",
    "plt.savefig(project_path / \"images/house_value_vs_income.png\")"
   ]
  },
  {
   "cell_type": "code",
   "execution_count": null,
   "metadata": {
    "pycharm": {
     "name": "#%%\n"
    }
   },
   "outputs": [],
   "source": [
    "df_housing.ocean_proximity.value_counts().plot(kind=\"bar\");"
   ]
  },
  {
   "attachments": {},
   "cell_type": "markdown",
   "metadata": {
    "pycharm": {
     "name": "#%% md\n"
    }
   },
   "source": [
    "To impute total_bedrooms, let's explore to see if we can impute smartly"
   ]
  },
  {
   "cell_type": "code",
   "execution_count": null,
   "metadata": {
    "pycharm": {
     "name": "#%%\n"
    }
   },
   "outputs": [],
   "source": [
    "df_housing.isna().sum()"
   ]
  },
  {
   "cell_type": "code",
   "execution_count": null,
   "metadata": {},
   "outputs": [],
   "source": [
    "# plot distribution of households with annotation of values for each bin\n",
    "fig, ax = plt.subplots()\n",
    "pd.cut(\n",
    "    df_housing[\"households\"], bins=[0, 100, 200, 300, 400, 500, 600, 700, 800, 900, 1000, 1100, 1200, 1300, np.inf]\n",
    ").value_counts().sort_index().plot(kind=\"bar\", ax=ax)\n",
    "ax.set_title(\"Distribution of bins of 'households' feature\")"
   ]
  },
  {
   "cell_type": "code",
   "execution_count": null,
   "metadata": {},
   "outputs": [],
   "source": [
    "# create a new column equal to total_bedrooms\n",
    "df_housing['total_bedrooms_fill_nan'] = df_housing['total_bedrooms']\n",
    "\n",
    "# create a new column with adequate bin households\n",
    "df_housing['households_bin'] = pd.cut(df_housing['households'], bins=[0, 100, 200, 300, 400, 500, 600, 700, 800, 900, 1000, np.inf], labels=[1, 2, 3, 4, 5, 6, 7, 8, 9, 10, 11])\n",
    "\n",
    "# fill missing values of total_bedrooms_fill_nan with the median of grouped households_bin\n",
    "df_housing['total_bedrooms_fill_nan'] = df_housing.groupby('households_bin')['total_bedrooms'].transform(lambda x: x.fillna(x.median()))\n"
   ]
  },
  {
   "cell_type": "code",
   "execution_count": null,
   "metadata": {},
   "outputs": [],
   "source": [
    "\n",
    "# show the dataframe where total_bedrooms is missing\n",
    "df_housing.loc[df_housing[\"total_bedrooms\"].isna(), [\"total_bedrooms\", \"households\", \"total_bedrooms_fill_nan\"]].head(20)"
   ]
  },
  {
   "cell_type": "code",
   "execution_count": null,
   "metadata": {},
   "outputs": [],
   "source": [
    "map_test = df_housing.groupby(\"households_bin\")[\"total_bedrooms\"].mean()\n",
    "map_test"
   ]
  },
  {
   "cell_type": "code",
   "execution_count": null,
   "metadata": {},
   "outputs": [],
   "source": [
    "df_housing[\"test_map\"] = df_housing[\"households_bin\"].map(map_test)\n",
    "df_housing.loc[df_housing[\"test_map\"].notna()]\n",
    "\n"
   ]
  },
  {
   "cell_type": "code",
   "execution_count": null,
   "metadata": {},
   "outputs": [],
   "source": [
    "a = df_housing[\"total_bedrooms\"].map(map_test).reset_index()\n",
    "a.loc[a[\"total_bedrooms\"].notnull()]"
   ]
  },
  {
   "cell_type": "code",
   "execution_count": null,
   "metadata": {},
   "outputs": [],
   "source": [
    "# custom imputer in scikit-learn that fill missing values of a column with its median or mean by groups of households_bin\n"
   ]
  },
  {
   "cell_type": "code",
   "execution_count": null,
   "metadata": {},
   "outputs": [],
   "source": [
    "# custom imputer in scikit-learn that fill missing values with the median or mean of a grouped target column\n",
    "class GroupedImputer(BaseEstimator, TransformerMixin):\n",
    "    def __init__(self, groupby, target, strategy=\"median\"):\n",
    "        self.groupby = groupby\n",
    "        self.target = target\n",
    "        self.strategy = strategy\n",
    "\n",
    "    def fit(self, X, y=None):\n",
    "        if self.strategy == \"median\":\n",
    "            self.imputer = X.groupby(self.groupby)[self.target].median()\n",
    "        elif self.strategy == \"mean\":\n",
    "            self.imputer = X.groupby(self.groupby)[self.target].mean()\n",
    "        return self\n",
    "\n",
    "    def transform(self, X, y=None):\n",
    "        X[self.target] = X[self.target].fillna(\n",
    "            X[self.groupby].map(self.imputer)\n",
    "        )\n",
    "        return X"
   ]
  },
  {
   "cell_type": "code",
   "execution_count": null,
   "metadata": {},
   "outputs": [],
   "source": [
    "# custom imputer in scikit-learn that fill missing values of a column with its median or mean by groups of households_bin\n",
    "class GroupedImputer(SimpleImputer):\n",
    "    def __init__(self, groupby, target, strategy=\"median\"):\n",
    "        self.groupby = groupby\n",
    "        self.target = target\n",
    "        self.strategy = strategy\n",
    "\n",
    "    def fit(self, X, y=None):\n",
    "        self.imputer = SimpleImputer(strategy=self.strategy)\n",
    "        self.imputer.fit(X.groupby(self.groupby)[self.target])\n",
    "        return self\n",
    "\n",
    "    def transform(self, X, y=None):\n",
    "        X[self.target] = X.groupby(self.groupby)[self.target].transform(\n",
    "            lambda x: x.fillna(self.imputer.statistics_[0])\n",
    "        )\n",
    "        return X\n",
    "    "
   ]
  },
  {
   "cell_type": "code",
   "execution_count": null,
   "metadata": {},
   "outputs": [],
   "source": [
    "imputer_test = GroupedImputer(groupby=\"households_bin\", target=\"total_bedrooms\", strategy=\"median\")\n",
    "df_housing = imputer_test.fit_transform(df_housing)"
   ]
  },
  {
   "cell_type": "code",
   "execution_count": null,
   "metadata": {},
   "outputs": [],
   "source": [
    "# custom transformer in scikit-learn that creates n columns corresponding to the n kmeans clusters and calculates the distances to each cluster\n",
    "class KMeansTransformer(BaseEstimator, TransformerMixin):\n",
    "    def __init__(self, n_clusters=5, random_state=42):\n",
    "        self.n_clusters = n_clusters\n",
    "        self.random_state = random_state\n",
    "\n",
    "    def fit(self, X, y=None):\n",
    "        self.kmeans = KMeans(n_clusters=self.n_clusters, random_state=self.random_state)\n",
    "        self.kmeans.fit(X)\n",
    "        return self\n",
    "\n",
    "    def transform(self, X, y=None):\n",
    "        X = X.copy()\n",
    "        X[\"kmeans_cluster\"] = self.kmeans.predict(X)\n",
    "        X[\"kmeans_distance\"] = self.kmeans.transform(X).min(axis=1)\n",
    "        return X"
   ]
  },
  {
   "cell_type": "code",
   "execution_count": null,
   "metadata": {},
   "outputs": [],
   "source": [
    "# plot total_bedrooms grouped by households with adequate bins\n",
    "fig, ax = plt.subplots()\n",
    "df_housing.groupby(\"households\")[\"total_bedrooms\"].mean().plot(\n",
    "    kind=\"hist\", bins=50, ax=ax\n",
    ")\n",
    "ax.set_title(\"total_bedrooms grouped by households\")\n",
    "# plt.savefig(project_path / \"images\" / \"total_bedrooms_grouped_by_households.png\")\n"
   ]
  },
  {
   "cell_type": "markdown",
   "metadata": {},
   "source": [
    "# Feature engineering"
   ]
  },
  {
   "cell_type": "code",
   "execution_count": null,
   "metadata": {
    "pycharm": {
     "name": "#%%\n"
    }
   },
   "outputs": [],
   "source": [
    "df_train_X = df_train.drop(\"median_house_value\", axis=1)\n",
    "train_y = df_train[\"median_house_value\"]"
   ]
  },
  {
   "cell_type": "code",
   "execution_count": null,
   "metadata": {
    "pycharm": {
     "name": "#%%\n"
    }
   },
   "outputs": [],
   "source": [
    "cat_preprocess = make_pipeline(\n",
    "    SimpleImputer(strategy=\"most_frequent\"), OneHotEncoder(handle_unknown=\"ignore\")\n",
    ")"
   ]
  },
  {
   "cell_type": "code",
   "execution_count": null,
   "metadata": {
    "pycharm": {
     "name": "#%%\n"
    }
   },
   "outputs": [],
   "source": [
    "num_preprocess = make_pipeline(SimpleImputer(strategy=\"median\"), StandardScaler())"
   ]
  },
  {
   "cell_type": "code",
   "execution_count": null,
   "metadata": {
    "pycharm": {
     "name": "#%%\n"
    }
   },
   "outputs": [],
   "source": [
    "cat_num_preproc = ColumnTransformer(\n",
    "    [\n",
    "        (\"cat\", cat_preprocess, make_column_selector(dtype_include=object)),\n",
    "        (\"num\", num_preprocess, make_column_selector(dtype_include=np.number)),\n",
    "    ]\n",
    ")"
   ]
  },
  {
   "cell_type": "code",
   "execution_count": null,
   "metadata": {
    "pycharm": {
     "name": "#%%\n"
    }
   },
   "outputs": [],
   "source": [
    "full_pipe = Pipeline(\n",
    "    [(\"preprocessing\", cat_num_preproc), (\"model\", RandomForestRegressor())]\n",
    ")"
   ]
  },
  {
   "cell_type": "code",
   "execution_count": null,
   "metadata": {
    "pycharm": {
     "name": "#%%\n"
    }
   },
   "outputs": [],
   "source": [
    "full_pipe"
   ]
  },
  {
   "cell_type": "code",
   "execution_count": null,
   "metadata": {
    "pycharm": {
     "name": "#%%\n"
    }
   },
   "outputs": [],
   "source": [
    "full_pipe.get_params()"
   ]
  },
  {
   "cell_type": "code",
   "execution_count": null,
   "metadata": {
    "pycharm": {
     "name": "#%%\n"
    }
   },
   "outputs": [],
   "source": [
    "params_grid = {\n",
    "    \"preprocessing__num__simpleimputer\": [\n",
    "        SimpleImputer(strategy=\"mean\"),\n",
    "        SimpleImputer(strategy=\"median\"),\n",
    "        KNNImputer(),\n",
    "    ],\n",
    "    \"preprocessing__cat__onehotencoder\": [OneHotEncoder(), OrdinalEncoder()],\n",
    "    \"preprocessing__num__standardscaler\": [StandardScaler(), RobustScaler()],\n",
    "    \"model\": [RandomForestRegressor(), GradientBoostingRegressor()],\n",
    "}"
   ]
  },
  {
   "cell_type": "code",
   "execution_count": null,
   "metadata": {
    "pycharm": {
     "name": "#%%\n"
    }
   },
   "outputs": [],
   "source": [
    "grid_search = GridSearchCV(full_pipe, params_grid, scoring=\"neg_root_mean_squared_error\")"
   ]
  },
  {
   "cell_type": "code",
   "execution_count": null,
   "metadata": {
    "pycharm": {
     "name": "#%%\n"
    }
   },
   "outputs": [],
   "source": [
    "%%time\n",
    "grid_search.fit(df_train_X, train_y)"
   ]
  },
  {
   "cell_type": "code",
   "execution_count": null,
   "metadata": {
    "pycharm": {
     "name": "#%%\n"
    }
   },
   "outputs": [],
   "source": [
    "grid_search.best_params_"
   ]
  },
  {
   "cell_type": "code",
   "execution_count": null,
   "metadata": {
    "pycharm": {
     "name": "#%%\n"
    }
   },
   "outputs": [],
   "source": [
    "results = pd.DataFrame(grid_search.cv_results_).sort_values(\"rank_test_score\")\n",
    "results = results[\n",
    "    [\n",
    "        \"param_model\",\n",
    "        \"param_preprocessing__cat__onehotencoder\",\n",
    "        \"param_preprocessing__num__simpleimputer\",\n",
    "        \"param_preprocessing__num__standardscaler\",\n",
    "        \"mean_test_score\",\n",
    "        \"std_test_score\",\n",
    "        \"rank_test_score\",\n",
    "    ]\n",
    "]\n",
    "results"
   ]
  },
  {
   "cell_type": "code",
   "execution_count": null,
   "metadata": {
    "pycharm": {
     "name": "#%%\n"
    }
   },
   "outputs": [],
   "source": [
    "final_model = grid_search.best_estimator_"
   ]
  },
  {
   "cell_type": "code",
   "execution_count": null,
   "metadata": {
    "pycharm": {
     "name": "#%%\n"
    }
   },
   "outputs": [],
   "source": [
    "X_test = df_test.drop('median_house_value', axis=1)\n",
    "y_test = df_test['median_house_value']"
   ]
  },
  {
   "cell_type": "code",
   "execution_count": null,
   "metadata": {
    "pycharm": {
     "name": "#%%\n"
    }
   },
   "outputs": [],
   "source": [
    "final_predictions = final_model.predict(X_test)\n",
    "final_rmse = mean_squared_error(y_test, final_predictions, squared=False)\n",
    "final_rmse"
   ]
  },
  {
   "cell_type": "code",
   "execution_count": null,
   "metadata": {
    "pycharm": {
     "name": "#%%\n"
    }
   },
   "outputs": [],
   "source": [
    "results.to_excel(project_path / 'models' / 'tuning_results' / 'first_tuning' / 'first_tuning.xlsx', index=False)"
   ]
  },
  {
   "cell_type": "code",
   "execution_count": null,
   "metadata": {
    "pycharm": {
     "name": "#%%\n"
    }
   },
   "outputs": [],
   "source": [
    "best_model = joblib.dump(grid_search.best_estimator_, )"
   ]
  }
 ],
 "metadata": {
  "kernelspec": {
   "display_name": "homl3",
   "language": "python",
   "name": "python3"
  },
  "language_info": {
   "codemirror_mode": {
    "name": "ipython",
    "version": 3
   },
   "file_extension": ".py",
   "mimetype": "text/x-python",
   "name": "python",
   "nbconvert_exporter": "python",
   "pygments_lexer": "ipython3",
   "version": "3.10.8 | packaged by conda-forge | (main, Nov 22 2022, 08:16:33) [MSC v.1929 64 bit (AMD64)]"
  },
  "vscode": {
   "interpreter": {
    "hash": "790e7aa706a45ff75c56b9bc7b8df4c178eff5e56969134269a30c22338dc3f9"
   }
  }
 },
 "nbformat": 4,
 "nbformat_minor": 0
}
